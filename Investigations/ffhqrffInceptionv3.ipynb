{
 "cells": [
  {
   "cell_type": "code",
   "execution_count": null,
   "metadata": {},
   "outputs": [],
   "source": [
    "# memory footprint support libraries/code\n",
    "# !ln -sf /opt/bin/nvidia-smi /usr/bin/nvidia-smi\n",
    "# !pip install gputil\n",
    "# !pip install psutil\n",
    "# !pip install humanize\n",
    "\n",
    "import os\n",
    "\n",
    "import cv2\n",
    "import GPUtil as GPU\n",
    "import humanize\n",
    "import keras\n",
    "import keras.utils\n",
    "import matplotlib.pyplot as plt\n",
    "import numpy as np\n",
    "import psutil\n",
    "import tensorflow\n",
    "import tensorflow as tf\n",
    "from google.colab import drive\n",
    "from keras import backend as K\n",
    "from keras import layers, models, optimizers\n",
    "from keras import utils as np_utils\n",
    "from keras.applications.inception_v3 import InceptionV3\n",
    "from keras.layers import (Activation, Conv2D, Convolution2D, Dense, Flatten,\n",
    "                          GlobalAveragePooling2D, MaxPooling2D, ZeroPadding2D)\n",
    "from keras.models import Model, Sequential\n",
    "from keras.preprocessing import image\n",
    "from keras.preprocessing.image import ImageDataGenerator\n",
    "from keras.utils.vis_utils import plot_model\n",
    "# Confusion Matrix and Classification Report\n",
    "from sklearn.metrics import classification_report, confusion_matrix\n",
    "from tensorflow.keras import utils as np_utils\n",
    "from tensorflow.keras.optimizers import Nadam, RMSprop"
   ]
  },
  {
   "cell_type": "code",
   "execution_count": null,
   "metadata": {
    "colab": {
     "base_uri": "https://localhost:8080/"
    },
    "executionInfo": {
     "elapsed": 25626,
     "status": "ok",
     "timestamp": 1653402179058,
     "user": {
      "displayName": "Anwesha Mohanty",
      "userId": "17802980582002434989"
     },
     "user_tz": -60
    },
    "id": "bI50Rvbi8Omc",
    "outputId": "ba171a91-5768-4fa5-e176-2becbd1aad0b"
   },
   "outputs": [],
   "source": [
    "drive.mount(\"/content/gdrive\", force_remount=True),\n",
    "root_dir = \"/content/gdrive/My Drive/\"\n",
    "base_dir = root_dir + \"Colab Notebooks/Inceptionv3\""
   ]
  },
  {
   "cell_type": "code",
   "execution_count": null,
   "metadata": {
    "colab": {
     "base_uri": "https://localhost:8080/",
     "height": 0
    },
    "executionInfo": {
     "elapsed": 5834,
     "status": "ok",
     "timestamp": 1653392895685,
     "user": {
      "displayName": "Anwesha Mohanty",
      "userId": "17802980582002434989"
     },
     "user_tz": -60
    },
    "id": "fEGMiLiBdQuu",
    "outputId": "29f0ca74-7826-425f-dd6f-8301b30a0f29"
   },
   "outputs": [],
   "source": [
    "device_name = tf.test.gpu_device_name()\n",
    "if device_name != \"/device:GPU:0\":\n",
    "    raise SystemError(\"GPU device not found\")\n",
    "print(\"Found GPU at: {}\".format(device_name))"
   ]
  },
  {
   "cell_type": "code",
   "execution_count": null,
   "metadata": {
    "colab": {
     "base_uri": "https://localhost:8080/",
     "height": 0
    },
    "executionInfo": {
     "elapsed": 9298,
     "status": "ok",
     "timestamp": 1653392906348,
     "user": {
      "displayName": "Anwesha Mohanty",
      "userId": "17802980582002434989"
     },
     "user_tz": -60
    },
    "id": "tzOfN6kXeN_e",
    "outputId": "c9224861-6ca7-40da-f50a-b3aed3594673"
   },
   "outputs": [],
   "source": [
    "GPUs = GPU.getGPUs()\n",
    "# XXX: only one GPU on Colab and isn’t guaranteed\n",
    "gpu = GPUs[0]\n",
    "\n",
    "\n",
    "def printm():\n",
    "    process = psutil.Process(os.getpid())\n",
    "    print(\n",
    "        \"Gen RAM Free: \" + humanize.naturalsize(psutil.virtual_memory().available),\n",
    "        \" | Proc size: \" + humanize.naturalsize(process.memory_info().rss),\n",
    "    )\n",
    "    print(\n",
    "        \"GPU RAM Free: {0:.0f}MB | Used: {1:.0f}MB | Util {2:3.0f}% | Total {3:.0f}MB\".format(\n",
    "            gpu.memoryFree, gpu.memoryUsed, gpu.memoryUtil * 100, gpu.memoryTotal\n",
    "        )\n",
    "    )"
   ]
  },
  {
   "cell_type": "code",
   "execution_count": null,
   "metadata": {
    "colab": {
     "base_uri": "https://localhost:8080/",
     "height": 0
    },
    "executionInfo": {
     "elapsed": 411,
     "status": "ok",
     "timestamp": 1653392908564,
     "user": {
      "displayName": "Anwesha Mohanty",
      "userId": "17802980582002434989"
     },
     "user_tz": -60
    },
    "id": "vcujziLgecXd",
    "outputId": "1c26d62a-9054-42b2-c2df-a1e654e86c5a"
   },
   "outputs": [],
   "source": [
    "!ls \"/content/gdrive/My Drive/Inceptionv3\""
   ]
  },
  {
   "cell_type": "code",
   "execution_count": null,
   "metadata": {
    "executionInfo": {
     "elapsed": 8,
     "status": "ok",
     "timestamp": 1653392916770,
     "user": {
      "displayName": "Anwesha Mohanty",
      "userId": "17802980582002434989"
     },
     "user_tz": -60
    },
    "id": "KVMirlIMgZ5e"
   },
   "outputs": [],
   "source": [
    "# directory of the dataset\n",
    "base_dir = \"/content/gdrive/My Drive/Inceptionv3\"\n",
    "\n",
    "train_dir = \"/content/gdrive/My Drive/Inceptionv3/train\"\n",
    "validation_dir = \"/content/gdrive/My Drive/Inceptionv3/validation\"\n",
    "test_dir = \"/content/gdrive/My Drive/Inceptionv3/test\""
   ]
  },
  {
   "cell_type": "code",
   "execution_count": null,
   "metadata": {
    "colab": {
     "base_uri": "https://localhost:8080/",
     "height": 0
    },
    "executionInfo": {
     "elapsed": 239862,
     "status": "ok",
     "timestamp": 1653393158272,
     "user": {
      "displayName": "Anwesha Mohanty",
      "userId": "17802980582002434989"
     },
     "user_tz": -60
    },
    "id": "do_Nwj_9gm_r",
    "outputId": "da72a587-63f6-4bad-acf5-db9bd7bb2e59"
   },
   "outputs": [],
   "source": [
    "# create the base pre_trained model\n",
    "base_model = InceptionV3(weights=\"imagenet\", include_top=False)\n",
    "\n",
    "# adding a global spatial average pooling layer\n",
    "x = base_model.output\n",
    "x = GlobalAveragePooling2D()(x)\n",
    "\n",
    "# adding fully connected layer\n",
    "x = Dense(1024, activation=\"relu\")(x)\n",
    "\n",
    "\n",
    "# adding a logistic output layer\n",
    "predictions = Dense(1, activation=\"sigmoid\")(x)\n",
    "\n",
    "# to train\n",
    "model = Model(inputs=base_model.input, outputs=predictions)\n",
    "\n",
    "model.summary()\n",
    "\n",
    "# train only top layers\n",
    "# freeze all convolutional InceptionV3 layers\n",
    "for layer in base_model.layers:\n",
    "    layer.trainable = False\n",
    "\n",
    "\n",
    "# compile the model\n",
    "model.compile(\n",
    "    optimizer=RMSprop(learning_rate=0.001), loss=\"binary_crossentropy\", metrics=[\"acc\"]\n",
    ")\n",
    "\n",
    "# choose to train top 2 inception blocks, i.e to freeze\n",
    "\n",
    "# call each layers to observe which to freeze or upfreeze\n",
    "for i, layer in enumerate(base_model.layers):\n",
    "    print(i, layer.name)\n",
    "\n",
    "# we chose to train the top 2 inception blocks, i.e. we will freeze\n",
    "# the first 249 layers and unfreeze the rest:\n",
    "for layer in model.layers[:249]:\n",
    "    layer.trainable = False\n",
    "for layer in model.layers[249:]:\n",
    "    layer.trainable = True\n",
    "\n",
    "# compile the model\n",
    "model.compile(loss=\"binary_crossentropy\", optimizer=Nadam(), metrics=[\"acc\"])\n",
    "\n",
    "# add data augmentation\n",
    "train_datagen = ImageDataGenerator(\n",
    "    rescale=1.0 / 255,\n",
    "    rotation_range=40,\n",
    "    width_shift_range=0.2,\n",
    "    height_shift_range=0.2,\n",
    "    shear_range=0.2,\n",
    "    zoom_range=0.2,\n",
    "    horizontal_flip=True,\n",
    "    fill_mode=\"nearest\",\n",
    ")\n",
    "\n",
    "validation_datagen = ImageDataGenerator(rescale=1.0 / 255)\n",
    "test_datagen = ImageDataGenerator(rescale=1.0 / 255)\n",
    "\n",
    "print(train_dir)\n",
    "print(validation_dir)\n",
    "\n",
    "train_generator = train_datagen.flow_from_directory(\n",
    "    train_dir, target_size=(299, 299), batch_size=4, class_mode=\"binary\"\n",
    ")\n",
    "\n",
    "validation_generator = validation_datagen.flow_from_directory(\n",
    "    validation_dir, target_size=(299, 299), batch_size=4, class_mode=\"binary\"\n",
    ")\n",
    "\n",
    "\n",
    "history = model.fit(\n",
    "    train_generator,\n",
    "    steps_per_epoch=15,\n",
    "    epochs=10,\n",
    "    verbose=1,\n",
    "    validation_data=validation_generator,\n",
    "    validation_steps=10,\n",
    ")"
   ]
  },
  {
   "cell_type": "code",
   "execution_count": null,
   "metadata": {
    "colab": {
     "base_uri": "https://localhost:8080/",
     "height": 3965
    },
    "executionInfo": {
     "elapsed": 3759,
     "status": "ok",
     "timestamp": 1653393166754,
     "user": {
      "displayName": "Anwesha Mohanty",
      "userId": "17802980582002434989"
     },
     "user_tz": -60
    },
    "id": "tTeV9h6SqNeo",
    "outputId": "768e0c48-d32d-424f-87ae-3ac45158db27"
   },
   "outputs": [],
   "source": [
    "tf.keras.utils.plot_model(model)"
   ]
  },
  {
   "cell_type": "code",
   "execution_count": null,
   "metadata": {
    "executionInfo": {
     "elapsed": 2,
     "status": "ok",
     "timestamp": 1653393167057,
     "user": {
      "displayName": "Anwesha Mohanty",
      "userId": "17802980582002434989"
     },
     "user_tz": -60
    },
    "id": "CDJDXO1rAaCK"
   },
   "outputs": [],
   "source": [
    "acc = history.history[\"acc\"]\n",
    "val_acc = history.history[\"val_acc\"]\n",
    "loss = history.history[\"loss\"]\n",
    "val_loss = history.history[\"val_loss\"]"
   ]
  },
  {
   "cell_type": "code",
   "execution_count": null,
   "metadata": {
    "executionInfo": {
     "elapsed": 223,
     "status": "ok",
     "timestamp": 1653043361030,
     "user": {
      "displayName": "Anwesha Mohanty",
      "userId": "17802980582002434989"
     },
     "user_tz": -60
    },
    "id": "7MRzJ4mRtJRS"
   },
   "outputs": [],
   "source": [
    "# print(history.history.keys())\n",
    "#  \"Accuracy\"\n",
    "# plt.plot(history.history['acc'])\n",
    "# plt.plot(history.history['val_acc'])\n",
    "# plt.title('model accuracy')\n",
    "# plt.ylabel('accuracy')\n",
    "# plt.xlabel('epoch')\n",
    "# plt.legend(['train', 'validation'], loc='upper left')\n",
    "# plt.show()\n",
    "# \"Loss\"\n",
    "# plt.plot(history.history['loss'])\n",
    "# plt.plot(history.history['val_loss'])\n",
    "# plt.title('model loss')\n",
    "# plt.ylabel('loss')\n",
    "# plt.xlabel('epoch')\n",
    "# plt.legend(['train', 'validation'], loc='upper left')\n",
    "# plt.show()"
   ]
  },
  {
   "cell_type": "code",
   "execution_count": null,
   "metadata": {
    "colab": {
     "base_uri": "https://localhost:8080/",
     "height": 573
    },
    "executionInfo": {
     "elapsed": 1157,
     "status": "ok",
     "timestamp": 1653393173337,
     "user": {
      "displayName": "Anwesha Mohanty",
      "userId": "17802980582002434989"
     },
     "user_tz": -60
    },
    "id": "fe68jRbvtPg-",
    "outputId": "3adb23f9-3cf4-4eb1-eaf0-3bc73f838353"
   },
   "outputs": [],
   "source": [
    "# Plot Training History.\n",
    "# summarize history for accuracy\n",
    "plt.plot(history.history[\"acc\"])\n",
    "plt.plot(history.history[\"val_acc\"])\n",
    "plt.title(\"Training and validation accuracy\")\n",
    "plt.ylabel(\"accuracy\")\n",
    "plt.xlabel(\"epoch\")\n",
    "plt.legend([\"train\", \"validation\"], loc=\"upper left\")\n",
    "# save image to disk\n",
    "plt.savefig(\"inv3_cnn_basic_accuracy\", dpi=250)\n",
    "plt.show()\n",
    "\n",
    "# summarize history for loss\n",
    "plt.plot(history.history[\"loss\"])\n",
    "plt.plot(history.history[\"val_loss\"])\n",
    "plt.title(\"Training and validation loss\")\n",
    "plt.ylabel(\"loss\")\n",
    "plt.xlabel(\"epoch\")\n",
    "plt.legend([\"train\", \"validation\"], loc=\"upper left\")\n",
    "# save image to disk\n",
    "plt.savefig(\"inv3_cnn_basic_loss\", dpi=250)\n",
    "plt.show()"
   ]
  },
  {
   "cell_type": "code",
   "execution_count": null,
   "metadata": {
    "id": "OB4JBUxociW9"
   },
   "outputs": [],
   "source": [
    "drive.mount(\"/content/drive\")"
   ]
  },
  {
   "cell_type": "code",
   "execution_count": null,
   "metadata": {
    "colab": {
     "base_uri": "https://localhost:8080/",
     "height": 0
    },
    "executionInfo": {
     "elapsed": 23052,
     "status": "ok",
     "timestamp": 1653393200336,
     "user": {
      "displayName": "Anwesha Mohanty",
      "userId": "17802980582002434989"
     },
     "user_tz": -60
    },
    "id": "mzfYkmWHtQ6j",
    "outputId": "34733134-63fe-43e5-93ad-1af7e5c58cd4"
   },
   "outputs": [],
   "source": [
    "test_generator = test_datagen.flow_from_directory(\n",
    "    test_dir, target_size=(299, 299), batch_size=4, class_mode=\"binary\"\n",
    ")\n",
    "\n",
    "# finally evaluate this model on the test data\n",
    "results = model.evaluate(test_generator, steps=10)\n",
    "\n",
    "print(\"Final test accuracy:\", (results[1] * 100.0))"
   ]
  },
  {
   "cell_type": "code",
   "execution_count": null,
   "metadata": {
    "executionInfo": {
     "elapsed": 2207,
     "status": "ok",
     "timestamp": 1653393458911,
     "user": {
      "displayName": "Anwesha Mohanty",
      "userId": "17802980582002434989"
     },
     "user_tz": -60
    },
    "id": "ITK0Xh4rtUng"
   },
   "outputs": [],
   "source": [
    "# Saving the model\n",
    "model.save(\"/content/gdrive/MyDrive/inceptionv3.h5\")"
   ]
  },
  {
   "cell_type": "code",
   "execution_count": null,
   "metadata": {
    "id": "GQaZ5VqmZ9qe"
   },
   "outputs": [],
   "source": [
    "# Additional stuff after this."
   ]
  },
  {
   "cell_type": "code",
   "execution_count": null,
   "metadata": {
    "executionInfo": {
     "elapsed": 268,
     "status": "ok",
     "timestamp": 1653323390550,
     "user": {
      "displayName": "Anwesha Mohanty",
      "userId": "17802980582002434989"
     },
     "user_tz": -60
    },
    "id": "qxZBNOH2wM-e"
   },
   "outputs": [],
   "source": [
    "true_classes = test_data_generator.classes\n",
    "class_labels = list(test_data_generator.class_indices.keys())"
   ]
  },
  {
   "cell_type": "code",
   "execution_count": null,
   "metadata": {
    "colab": {
     "base_uri": "https://localhost:8080/",
     "height": 236
    },
    "executionInfo": {
     "elapsed": 249,
     "status": "error",
     "timestamp": 1653323981380,
     "user": {
      "displayName": "Anwesha Mohanty",
      "userId": "17802980582002434989"
     },
     "user_tz": -60
    },
    "id": "0hsfb09LwOdu",
    "outputId": "1fb31b6d-a224-4ce3-bbe7-f6aed8a5f25c"
   },
   "outputs": [],
   "source": [
    "Y_pred = model.predict_generator(\n",
    "    validation_generator, nb_validation_samples // batch_size + 1\n",
    ")\n",
    "y_pred = np.argmax(Y_pred, axis=1)\n",
    "\n",
    "print(\"Confusion Matrix\")\n",
    "print(confusion_matrix(validation_generator.classes, y_pred))\n",
    "\n",
    "print(\"Classification Report\")\n",
    "target_names = [\"Cats\", \"Dogs\"]\n",
    "print(\n",
    "    classification_report(\n",
    "        validation_generator.classes, y_pred, target_names=target_names\n",
    "    )\n",
    ")"
   ]
  },
  {
   "cell_type": "code",
   "execution_count": null,
   "metadata": {
    "executionInfo": {
     "elapsed": 215,
     "status": "ok",
     "timestamp": 1653044158243,
     "user": {
      "displayName": "Anwesha Mohanty",
      "userId": "17802980582002434989"
     },
     "user_tz": -60
    },
    "id": "VjbdlXnCGWQ6"
   },
   "outputs": [],
   "source": [
    "def log_confusion_matrix(epoch, logs):\n",
    "\n",
    "    # Use the model to predict the values from the test_images.\n",
    "    test_pred_raw = model.predict(test_images)\n",
    "\n",
    "    test_pred = np.argmax(test_pred_raw, axis=1)\n",
    "\n",
    "    # Calculate the confusion matrix using sklearn.metrics\n",
    "    cm = sklearn.metrics.confusion_matrix(test_labels, test_pred)\n",
    "\n",
    "    figure = plot_confusion_matrix(cm, class_names=class_names)\n",
    "    cm_image = plot_to_image(figure)\n",
    "\n",
    "    # Log the confusion matrix as an image summary.\n",
    "    with file_writer_cm.as_default():\n",
    "        tf.summary.image(\"Confusion Matrix\", cm_image, step=epoch)"
   ]
  },
  {
   "cell_type": "code",
   "execution_count": null,
   "metadata": {
    "executionInfo": {
     "elapsed": 3,
     "status": "ok",
     "timestamp": 1653044160064,
     "user": {
      "displayName": "Anwesha Mohanty",
      "userId": "17802980582002434989"
     },
     "user_tz": -60
    },
    "id": "H7Wos6_PGqZ3"
   },
   "outputs": [],
   "source": [
    "cm_callback = keras.callbacks.LambdaCallback(on_epoch_end=log_confusion_matrix)"
   ]
  },
  {
   "cell_type": "code",
   "execution_count": null,
   "metadata": {
    "colab": {
     "base_uri": "https://localhost:8080/",
     "height": 236
    },
    "executionInfo": {
     "elapsed": 189,
     "status": "error",
     "timestamp": 1653044171602,
     "user": {
      "displayName": "Anwesha Mohanty",
      "userId": "17802980582002434989"
     },
     "user_tz": -60
    },
    "id": "BVRzz2JoGr4I",
    "outputId": "e5ef0a0e-e86b-4af7-ad90-a644a86f715c"
   },
   "outputs": [],
   "source": [
    "# Start TensorBoard.\n",
    "#%tensorboard --logdir logs/image\n",
    "# Train the classifier.\n",
    "model.fit(\n",
    "    train_images,\n",
    "    train_labels,\n",
    "    epochs=5,\n",
    "    verbose=0,  # Suppress chatty output\n",
    "    callbacks=[tensorboard_callback, cm_callback],\n",
    "    validation_data=(test_images, test_labels),\n",
    ")"
   ]
  }
 ],
 "metadata": {
  "accelerator": "GPU",
  "colab": {
   "authorship_tag": "ABX9TyPOJI/NWNCr9NuPsHNAQV8L",
   "name": "ffhqrffInceptionv3.ipynb",
   "provenance": []
  },
  "kernelspec": {
   "display_name": "Python 3.6.8 ('.venv': venv)",
   "language": "python",
   "name": "python3"
  },
  "language_info": {
   "codemirror_mode": {
    "name": "ipython",
    "version": 3
   },
   "file_extension": ".py",
   "mimetype": "text/x-python",
   "name": "python",
   "nbconvert_exporter": "python",
   "pygments_lexer": "ipython3",
   "version": "3.8.6"
  },
  "vscode": {
   "interpreter": {
    "hash": "ea9e10161485aeb311574058ff1b1e84ab16461ec0cdcb14f6f3dabc418111f9"
   }
  }
 },
 "nbformat": 4,
 "nbformat_minor": 0
}
