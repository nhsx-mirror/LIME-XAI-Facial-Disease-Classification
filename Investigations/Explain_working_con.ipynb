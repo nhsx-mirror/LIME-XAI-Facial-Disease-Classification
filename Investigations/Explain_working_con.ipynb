{
 "cells": [
  {
   "cell_type": "code",
   "execution_count": null,
   "metadata": {
    "colab": {
     "base_uri": "https://localhost:8080/"
    },
    "id": "_yTIdSVqw8hk",
    "outputId": "2ae103dc-9b31-4119-d095-336c55b1c45d"
   },
   "outputs": [],
   "source": [
    "import copy\n",
    "import os\n",
    "import warnings\n",
    "\n",
    "import keras\n",
    "import matplotlib\n",
    "import numpy as np\n",
    "import skimage.io\n",
    "import skimage.segmentation\n",
    "import sklearn\n",
    "import sklearn.metrics\n",
    "from google.colab import drive\n",
    "from keras import models\n",
    "from keras.applications.imagenet_utils import decode_predictions\n",
    "from keras.models import load_model\n",
    "from skimage import io\n",
    "from sklearn.linear_model import LinearRegression\n",
    "\n",
    "drive.mount(\"/content/gdrive\", force_remount=True)\n",
    "root_dir = \"/content/gdrive/My Drive/\""
   ]
  },
  {
   "cell_type": "code",
   "execution_count": null,
   "metadata": {},
   "outputs": [],
   "source": [
    "# full path\n",
    "dir_path = os.path.dirname(os.path.realpath(\"\"))\n",
    "\n",
    "# current dir\n",
    "cwd = os.getcwd()\n",
    "cwd"
   ]
  },
  {
   "cell_type": "code",
   "execution_count": null,
   "metadata": {
    "colab": {
     "base_uri": "https://localhost:8080/"
    },
    "id": "uq9q-_zXgqtV",
    "outputId": "d9db75dd-c34b-413b-f569-5bfdc5b87671"
   },
   "outputs": [],
   "source": [
    "print(\"Notebook running: keras \", keras.__version__)\n",
    "np.random.seed(222)"
   ]
  },
  {
   "cell_type": "code",
   "execution_count": null,
   "metadata": {},
   "outputs": [],
   "source": [
    "matplotlib.use(\"TkAgg\")\n",
    "\n",
    "io.use_plugin(\"matplotlib\")\n",
    "\n",
    "%matplotlib inline"
   ]
  },
  {
   "cell_type": "markdown",
   "metadata": {
    "id": "GL3_49UwBJ2R"
   },
   "source": [
    "Loading the Fine-tuned Inception V3 model. "
   ]
  },
  {
   "cell_type": "code",
   "execution_count": null,
   "metadata": {
    "id": "H0wD3jzIwm3T"
   },
   "outputs": [],
   "source": [
    "model = load_model(\"../models/incepv3con.h5\")"
   ]
  },
  {
   "cell_type": "markdown",
   "metadata": {
    "id": "fQCh-ESMBYxe"
   },
   "source": [
    "The instance to be explained (image) is resized and pre-processed to be suitable for Inception V3. This image is saved in the variable Xi."
   ]
  },
  {
   "cell_type": "code",
   "execution_count": null,
   "metadata": {
    "colab": {
     "base_uri": "https://localhost:8080/",
     "height": 314
    },
    "id": "jgIPG0y3djCF",
    "outputId": "56816164-d33a-409b-d124-800a6bed40ec"
   },
   "outputs": [],
   "source": [
    "Xi = skimage.io.imread(\"../data/test.jpeg\")\n",
    "Xi = skimage.transform.resize(Xi, (299, 299))\n",
    "Xi = (Xi - 0.5) * 2  # Inception pre-processing\n",
    "skimage.io.imshow(Xi / 2 + 0.5)  # Show image before inception preprocessing"
   ]
  },
  {
   "cell_type": "markdown",
   "metadata": {
    "id": "_wLmD_HlBp9i"
   },
   "source": [
    "Prediction starts..."
   ]
  },
  {
   "cell_type": "code",
   "execution_count": null,
   "metadata": {
    "id": "8LuLr4osmg7K"
   },
   "outputs": [],
   "source": [
    "np.random.seed(222)\n",
    "preds = model.predict(Xi[np.newaxis, :, :, :])"
   ]
  },
  {
   "cell_type": "code",
   "execution_count": null,
   "metadata": {
    "colab": {
     "base_uri": "https://localhost:8080/"
    },
    "id": "h_9STGVK9hlt",
    "outputId": "27628656-5c92-4aa8-a031-206a4ed734b6"
   },
   "outputs": [],
   "source": [
    "preds"
   ]
  },
  {
   "cell_type": "code",
   "execution_count": null,
   "metadata": {
    "colab": {
     "base_uri": "https://localhost:8080/"
    },
    "id": "Kxfe8MV0rHej",
    "outputId": "3ca688d5-de71-460a-bd99-122f63161f39"
   },
   "outputs": [],
   "source": [
    "top_pred_classes = preds[0].argsort()[-2:][::-1]\n",
    "top_pred_classes"
   ]
  },
  {
   "cell_type": "markdown",
   "metadata": {
    "id": "nE8fmHlyB7Wx"
   },
   "source": [
    "Extract super-pixels from the input image..."
   ]
  },
  {
   "cell_type": "code",
   "execution_count": null,
   "metadata": {
    "colab": {
     "base_uri": "https://localhost:8080/"
    },
    "id": "KiuAcTnuhl8r",
    "outputId": "969c153b-e9ad-454b-aa8e-388325f9583e"
   },
   "outputs": [],
   "source": [
    "superpixels = skimage.segmentation.quickshift(\n",
    "    Xi, kernel_size=4, max_dist=200, ratio=0.2\n",
    ")\n",
    "num_superpixels = np.unique(superpixels).shape[0]\n",
    "num_superpixels"
   ]
  },
  {
   "cell_type": "code",
   "execution_count": null,
   "metadata": {
    "colab": {
     "base_uri": "https://localhost:8080/",
     "height": 314
    },
    "id": "8fPvSbn0woWP",
    "outputId": "e6260683-366c-43bb-bbc3-ddcb728a0432"
   },
   "outputs": [],
   "source": [
    "skimage.io.imshow(skimage.segmentation.mark_boundaries(Xi / 2 + 0.5, superpixels))"
   ]
  },
  {
   "cell_type": "markdown",
   "metadata": {
    "id": "u29jLNYJCF0_"
   },
   "source": [
    "Creatign random perturbations..."
   ]
  },
  {
   "cell_type": "code",
   "execution_count": null,
   "metadata": {
    "colab": {
     "base_uri": "https://localhost:8080/"
    },
    "id": "1VL_G_g1EN-J",
    "outputId": "941559ef-0b78-4524-d32a-1e8f9f8be603"
   },
   "outputs": [],
   "source": [
    "num_perturb = 150\n",
    "perturbations = np.random.binomial(1, 0.5, size=(num_perturb, num_superpixels))\n",
    "perturbations[0]  # Show example of perturbation"
   ]
  },
  {
   "cell_type": "markdown",
   "metadata": {
    "id": "M-nk1uikCNbd"
   },
   "source": [
    "The following function perturb_image perturbs the given image (img) based on a perturbation vector (perturbation) and predefined superpixels (segments)."
   ]
  },
  {
   "cell_type": "code",
   "execution_count": null,
   "metadata": {
    "id": "RIApBrvTEVAV"
   },
   "outputs": [],
   "source": [
    "def perturb_image(img, perturbation, segments):\n",
    "    active_pixels = np.where(perturbation == 1)[0]\n",
    "    mask = np.zeros(segments.shape)\n",
    "    for active in active_pixels:\n",
    "        mask[segments == active] = 1\n",
    "    perturbed_image = copy.deepcopy(img)\n",
    "    perturbed_image = perturbed_image * mask[:, :, np.newaxis]\n",
    "    return perturbed_image"
   ]
  },
  {
   "cell_type": "code",
   "execution_count": null,
   "metadata": {
    "colab": {
     "base_uri": "https://localhost:8080/",
     "height": 314
    },
    "id": "baNh08g76URc",
    "outputId": "f10caaae-39da-4e2f-c9f6-12b9b02413e8"
   },
   "outputs": [],
   "source": [
    "skimage.io.imshow(perturb_image(Xi / 2 + 0.5, perturbations[0], superpixels))"
   ]
  },
  {
   "cell_type": "markdown",
   "metadata": {
    "id": "kQAGbkRHCl_J"
   },
   "source": [
    "Use ML classifier to predict classes of new generated images\n",
    "This is the most computationally expensive step in LIME because a prediction for each perturbed image is computed. From the shape of the predictions we can see for each of the perturbations we have the output probability for each of the existing class in Inception V3."
   ]
  },
  {
   "cell_type": "code",
   "execution_count": null,
   "metadata": {
    "colab": {
     "base_uri": "https://localhost:8080/"
    },
    "id": "a8blZDtxEfhg",
    "outputId": "7cff254b-2dd6-4e5b-f92f-7af23ffeb58f"
   },
   "outputs": [],
   "source": [
    "predictions = []\n",
    "for pert in perturbations:\n",
    "    perturbed_img = perturb_image(Xi, pert, superpixels)\n",
    "    pred = model.predict(perturbed_img[np.newaxis, :, :, :])\n",
    "    predictions.append(pred)\n",
    "\n",
    "predictions = np.array(predictions)\n",
    "predictions.shape"
   ]
  },
  {
   "cell_type": "markdown",
   "metadata": {
    "id": "piPhnzwiCzsc"
   },
   "source": [
    "Compute distances between the original image and each of the perturbed images and compute weights (importance) of each perturbed image\n",
    "The distance between each randomly generated perturnation and the image being explained is computed using the cosine distance. For the shape of the distances array it can be noted that, as expected, there is a distance for every generated perturbation."
   ]
  },
  {
   "cell_type": "code",
   "execution_count": null,
   "metadata": {
    "colab": {
     "base_uri": "https://localhost:8080/"
    },
    "id": "0dop91A8FMyX",
    "outputId": "0b5f7cbe-4c46-43d6-c634-e3bdcb83ac0c"
   },
   "outputs": [],
   "source": [
    "original_image = np.ones(num_superpixels)[\n",
    "    np.newaxis, :\n",
    "]  # Perturbation with all superpixels enabled\n",
    "distances = sklearn.metrics.pairwise_distances(\n",
    "    perturbations, original_image, metric=\"cosine\"\n",
    ").ravel()\n",
    "distances.shape"
   ]
  },
  {
   "cell_type": "markdown",
   "metadata": {
    "id": "M25nrgfiC6iq"
   },
   "source": [
    "Use kernel function to compute weights"
   ]
  },
  {
   "cell_type": "code",
   "execution_count": null,
   "metadata": {
    "colab": {
     "base_uri": "https://localhost:8080/"
    },
    "id": "ROE4u_iDFajC",
    "outputId": "1d1d6e20-f913-4cef-e104-8986a3ba636a"
   },
   "outputs": [],
   "source": [
    "kernel_width = 0.25\n",
    "weights = np.sqrt(np.exp(-(distances**2) / kernel_width**2))  # Kernel function\n",
    "weights.shape"
   ]
  },
  {
   "cell_type": "markdown",
   "metadata": {
    "id": "EF4wFW23DA8C"
   },
   "source": [
    "Use perturbations, predictions and weights to fit an explainable (linear) model"
   ]
  },
  {
   "cell_type": "code",
   "execution_count": null,
   "metadata": {
    "colab": {
     "base_uri": "https://localhost:8080/"
    },
    "id": "I8YCIyr_Fb_D",
    "outputId": "3f914a8f-5393-4d30-935e-174a83430877"
   },
   "outputs": [],
   "source": [
    "class_to_explain = top_pred_classes[0]\n",
    "simpler_model = LinearRegression()\n",
    "simpler_model.fit(\n",
    "    X=perturbations, y=predictions[:, :, class_to_explain], sample_weight=weights\n",
    ")\n",
    "coeff = simpler_model.coef_[0]\n",
    "coeff"
   ]
  },
  {
   "cell_type": "markdown",
   "metadata": {
    "id": "EfOPn7YXDJ0Z"
   },
   "source": [
    "Compute top features (superpixels)"
   ]
  },
  {
   "cell_type": "code",
   "execution_count": null,
   "metadata": {
    "colab": {
     "base_uri": "https://localhost:8080/"
    },
    "id": "h6NvEecdFhuG",
    "outputId": "1a938eed-1846-4d0a-f51f-f807b15888db"
   },
   "outputs": [],
   "source": [
    "num_top_features = 25\n",
    "top_features = np.argsort(coeff)[-num_top_features:]\n",
    "top_features"
   ]
  },
  {
   "cell_type": "markdown",
   "metadata": {
    "id": "4bjSNWAfDFrI"
   },
   "source": [
    "Show LIME explanation (image with top features)"
   ]
  },
  {
   "cell_type": "code",
   "execution_count": null,
   "metadata": {
    "colab": {
     "base_uri": "https://localhost:8080/",
     "height": 314
    },
    "id": "GUUDUHgOFuc4",
    "outputId": "6b499f6d-3bbd-44c5-a9a3-2fcf1aaf6bec"
   },
   "outputs": [],
   "source": [
    "mask = np.zeros(num_superpixels)\n",
    "mask[top_features] = True  # Activate top superpixels\n",
    "skimage.io.imshow(perturb_image(Xi / 2 + 0.5, mask, superpixels))"
   ]
  },
  {
   "cell_type": "markdown",
   "metadata": {
    "id": "o_KHNInnDWdC"
   },
   "source": [
    "The end."
   ]
  },
  {
   "cell_type": "code",
   "execution_count": null,
   "metadata": {
    "id": "QbxP_neqFzGe"
   },
   "outputs": [],
   "source": []
  }
 ],
 "metadata": {
  "colab": {
   "collapsed_sections": [],
   "name": "Explain working_con.ipynb",
   "provenance": []
  },
  "kernelspec": {
   "display_name": "Python 3.8.6 ('.venv': venv)",
   "language": "python",
   "name": "python3"
  },
  "language_info": {
   "codemirror_mode": {
    "name": "ipython",
    "version": 3
   },
   "file_extension": ".py",
   "mimetype": "text/x-python",
   "name": "python",
   "nbconvert_exporter": "python",
   "pygments_lexer": "ipython3",
   "version": "3.8.6"
  },
  "vscode": {
   "interpreter": {
    "hash": "ea9e10161485aeb311574058ff1b1e84ab16461ec0cdcb14f6f3dabc418111f9"
   }
  }
 },
 "nbformat": 4,
 "nbformat_minor": 0
}
